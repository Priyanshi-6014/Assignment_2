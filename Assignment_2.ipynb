{
 "cells": [
  {
   "cell_type": "code",
   "execution_count": 174,
   "metadata": {},
   "outputs": [
    {
     "name": "stdout",
     "output_type": "stream",
     "text": [
      "Input blood sugar: 909\n",
      "Out of range\n"
     ]
    }
   ],
   "source": [
    "#1\n",
    "fasting_blood_sugar = float(input(\"Input blood sugar: \")) #getting input \n",
    "if fasting_blood_sugar > 99:  # using if else to check the level of sugar in blood\n",
    "    print(\"Out of range\")    \n",
    "else:\n",
    "    print(\"normal\")"
   ]
  },
  {
   "cell_type": "code",
   "execution_count": null,
   "metadata": {},
   "outputs": [],
   "source": []
  },
  {
   "cell_type": "code",
   "execution_count": 17,
   "metadata": {},
   "outputs": [
    {
     "name": "stdout",
     "output_type": "stream",
     "text": [
      "success\n",
      "success\n",
      "success\n",
      "success\n",
      "success\n",
      "success\n",
      "success\n",
      "success\n",
      "success\n",
      "success\n",
      "success\n",
      "success\n",
      "success\n",
      "success\n",
      "success\n",
      "success\n",
      "success\n",
      "success\n",
      "success\n",
      "success\n",
      "success\n",
      "success\n",
      "success\n",
      "success\n",
      "success\n",
      "success\n",
      "success\n",
      "success\n",
      "success\n",
      "success\n",
      "success\n",
      "success\n",
      "success\n",
      "success\n",
      "success\n",
      "success\n",
      "success\n",
      "success\n",
      "success\n",
      "success\n",
      "success\n",
      "success\n",
      "success\n",
      "success\n",
      "success\n",
      "success\n",
      "success\n",
      "success\n",
      "success\n",
      "success\n",
      "success\n",
      "success\n",
      "success\n",
      "success\n",
      "success\n",
      "success\n",
      "success\n",
      "success\n",
      "success\n",
      "success\n",
      "success\n",
      "success\n",
      "success\n",
      "success\n",
      "success\n",
      "success\n",
      "success\n",
      "success\n",
      "success\n",
      "success\n",
      "success\n",
      "success\n",
      "success\n",
      "success\n",
      "success\n",
      "success\n",
      "success\n",
      "success\n",
      "success\n",
      "success\n",
      "success\n",
      "success\n",
      "success\n",
      "success\n",
      "success\n",
      "success\n",
      "success\n",
      "success\n",
      "success\n",
      "success\n",
      "success\n",
      "success\n",
      "success\n",
      "success\n",
      "success\n",
      "success\n",
      "success\n",
      "success\n",
      "success\n",
      "success\n"
     ]
    }
   ],
   "source": [
    "#2\n",
    "from random import sample\n",
    "for i in range(0,100):\n",
    "    a = sample(['1','2','3'],1)\n",
    "    b = sample(['1','2','3'],1)\n",
    "\n",
    "    file_a = open('file1.txt','a')\n",
    "    file_b = open(file='file2.txt', mode='a')\n",
    "\n",
    "    file_a.write('\\n'+a[0])\n",
    "    file_b.write('\\n'+b[0])\n",
    "    \n",
    "    file_a.close()\n",
    "    file_b.close()\n",
    "\n",
    "    \n",
    "    file_a = open(file='file1.txt',mode='r')#as we closed the file, we are opening it in reading mode\n",
    "    file_b = open(file='file2.txt',mode='r')\n",
    "    for x in file_a.readlines():              # for each element in file_a, compare with each element in file_b\n",
    "        for y in file_b.readlines():\n",
    "            if x==y:\n",
    "                print(\"success\")\n",
    "       \n",
    "               \n",
    "           \n",
    "            \n",
    "        \n",
    "        \n"
   ]
  },
  {
   "cell_type": "code",
   "execution_count": null,
   "metadata": {},
   "outputs": [],
   "source": []
  },
  {
   "cell_type": "code",
   "execution_count": 176,
   "metadata": {},
   "outputs": [
    {
     "name": "stdout",
     "output_type": "stream",
     "text": [
      "2850\n"
     ]
    }
   ],
   "source": [
    "#3\n",
    "file_text=open(file='sample-file.txt',mode='r') #opeing file in reading mode \n",
    "no_of_lines=0      \n",
    "for x in file_text.readlines():      #readlines will call whole file unlink readline command\n",
    "    if 'q' in x:                     # for each letter q in line, one number will be added to no_of_lines\n",
    "        no_of_lines+=1\n",
    "print(no_of_lines)\n",
    "    \n",
    "           \n",
    "\n",
    "        \n"
   ]
  },
  {
   "cell_type": "code",
   "execution_count": 178,
   "metadata": {},
   "outputs": [
    {
     "name": "stdout",
     "output_type": "stream",
     "text": [
      "   internet      grade\n",
      "0         0  11.026490\n",
      "1         1  12.172691\n"
     ]
    },
    {
     "data": {
      "image/png": "[encoded data removed]",
      "text/plain": [
       "<Figure size 432x288 with 1 Axes>"
      ]
     },
     "metadata": {
      "needs_background": "light"
     },
     "output_type": "display_data"
    }
   ],
   "source": [
    "\n",
    "#4\n",
    "import pandas as pd\n",
    "import matplotlib.pyplot as plt\n",
    "\n",
    "data = pd.read_csv('student.csv')\n",
    "\n",
    "data = data[['internet', 'grade']]      #we only to work with 'internet' and 'grade' column from data. \n",
    "\n",
    "data2 = data.groupby('internet').mean().reset_index()\n",
    "\n",
    "print(data2)\n",
    "plt.bar(data2['internet'],data2['grade'])  #plottting bar graph with internet in x and grade in y axis. \n",
    "plt.xlabel('Internet')\n",
    "plt.ylabel('grade')\n",
    "plt.show()\n"
   ]
  },
  {
   "cell_type": "code",
   "execution_count": null,
   "metadata": {},
   "outputs": [],
   "source": []
  },
  {
   "cell_type": "code",
   "execution_count": 179,
   "metadata": {},
   "outputs": [
    {
     "name": "stdout",
     "output_type": "stream",
     "text": [
      "   studytime      grade\n",
      "0          1  10.844340\n",
      "1          2  12.091803\n",
      "2          3  13.226804\n",
      "3          4  13.057143\n"
     ]
    },
    {
     "data": {
      "image/png": "[encoded data removed]",
      "text/plain": [
       "<Figure size 432x288 with 1 Axes>"
      ]
     },
     "metadata": {
      "needs_background": "light"
     },
     "output_type": "display_data"
    }
   ],
   "source": [
    "#5\n",
    "import pandas as pd\n",
    "import matplotlib.pyplot as plt\n",
    "data = pd.read_csv('student.csv')\n",
    "\n",
    "data = data[['studytime', 'grade']]\n",
    "data2 = data.groupby('studytime').mean().reset_index()\n",
    "print(data2)\n",
    "\n",
    "plt.plot(data2['studytime'],data2['grade'],'o-',color='magenta',label='average_grade') #plotting line graph\n",
    "plt.legend()\n",
    "plt.show()\n",
    "\n"
   ]
  },
  {
   "cell_type": "code",
   "execution_count": null,
   "metadata": {},
   "outputs": [],
   "source": []
  },
  {
   "cell_type": "code",
   "execution_count": 180,
   "metadata": {},
   "outputs": [
    {
     "data": {
      "image/png": "[encoded data removed]",
      "text/plain": [
       "<Figure size 432x288 with 1 Axes>"
      ]
     },
     "metadata": {
      "needs_background": "light"
     },
     "output_type": "display_data"
    }
   ],
   "source": [
    "#6\n",
    "import numpy as np\n",
    "import pandas as pd\n",
    "from sklearn.preprocessing import StandardScaler\n",
    "data = pd.read_csv('crime.csv')\n",
    "\n",
    "#plot1 without scaling the data:\n",
    "plt.scatter(data['ViolentCrimesPerPop'],data['PctPopUnderPov'],label='original_data',color='gold')\n",
    "plt.legend()\n",
    "plt.show()"
   ]
  },
  {
   "cell_type": "code",
   "execution_count": 181,
   "metadata": {},
   "outputs": [],
   "source": [
    "#plot2 with scaling the value: \n",
    "crime_list = np.array(data['ViolentCrimesPerPop']).reshape(-1,1)  #converting all data in between -1 and 1\n",
    "scaler1 = StandardScaler()\n",
    "crime_list = scaler1.fit_transform(crime_list)\n",
    "\n",
    "\n",
    "under_pov = np.array(data['PctPopUnderPov']).reshape(-1,1)\n",
    "scaler2 = StandardScaler()\n",
    "under_pov=scaler2.fit_transform(under_pov)\n"
   ]
  },
  {
   "cell_type": "code",
   "execution_count": 182,
   "metadata": {},
   "outputs": [
    {
     "data": {
      "image/png": "[encoded data removed]",
      "text/plain": [
       "<Figure size 432x288 with 1 Axes>"
      ]
     },
     "metadata": {
      "needs_background": "light"
     },
     "output_type": "display_data"
    }
   ],
   "source": [
    "plt.scatter(crime_list,under_pov,label='scaled',color='pink')   #plotting scaled data\n",
    "plt.legend()\n",
    "plt.show()"
   ]
  },
  {
   "cell_type": "code",
   "execution_count": null,
   "metadata": {},
   "outputs": [],
   "source": [
    "\n"
   ]
  },
  {
   "cell_type": "code",
   "execution_count": 183,
   "metadata": {
    "scrolled": true
   },
   "outputs": [
    {
     "name": "stderr",
     "output_type": "stream",
     "text": [
      "/Users/priyanshidobariya/anaconda3/lib/python3.7/site-packages/urllib3/connectionpool.py:857: InsecureRequestWarning: Unverified HTTPS request is being made. Adding certificate verification is strongly advised. See: https://urllib3.readthedocs.io/en/latest/advanced-usage.html#ssl-warnings\n",
      "  InsecureRequestWarning)\n"
     ]
    },
    {
     "name": "stdout",
     "output_type": "stream",
     "text": [
      "2\n"
     ]
    }
   ],
   "source": [
    "#7\n",
    "from bs4 import BeautifulSoup\n",
    "import requests\n",
    "content = requests.get(\"https://en.wikipedia.org/wiki/Data_science\",verify=False).text  #using request package to get \n",
    "soup = BeautifulSoup(content,'html5lib')                                                #text from online website\n",
    "paragraphs = soup.find_all('p') #here p denotes paragraph in HTML. \n",
    "\n",
    "index=[]\n",
    "for each in paragraphs:\n",
    "    if 'learning' in str(each):\n",
    "         index.append(paragraphs.index(each))\n",
    "\n",
    "print(len(index))\n",
    "    "
   ]
  },
  {
   "cell_type": "code",
   "execution_count": null,
   "metadata": {},
   "outputs": [],
   "source": []
  },
  {
   "cell_type": "code",
   "execution_count": 184,
   "metadata": {},
   "outputs": [
    {
     "data": {
      "image/png": "[encoded data removed]",
      "text/plain": [
       "<Figure size 432x288 with 1 Axes>"
      ]
     },
     "metadata": {
      "needs_background": "light"
     },
     "output_type": "display_data"
    }
   ],
   "source": [
    "##question 8\n",
    "import pandas as pd\n",
    "import matplotlib.pyplot as plt\n",
    "student = pd.read_csv('student.csv')\n",
    "\n",
    "#for studytime less than 3\n",
    "less_3=student[student.studytime<3] \n",
    "less_3=less_3['grade']\n",
    "plt.boxplot(less_3)\n",
    "plt.show()\n",
    "\n",
    "    "
   ]
  },
  {
   "cell_type": "code",
   "execution_count": 185,
   "metadata": {},
   "outputs": [
    {
     "data": {
      "image/png": "[encoded data removed]",
      "text/plain": [
       "<Figure size 432x288 with 1 Axes>"
      ]
     },
     "metadata": {
      "needs_background": "light"
     },
     "output_type": "display_data"
    }
   ],
   "source": [
    "#for studytime equal to or more than 3\n",
    "more_3 =student[student.studytime>=3] \n",
    "more_3= more_3['grade']\n",
    "plt.boxplot(more_3)\n",
    "plt.show()\n"
   ]
  },
  {
   "cell_type": "code",
   "execution_count": 186,
   "metadata": {},
   "outputs": [
    {
     "data": {
      "text/plain": [
       "PctPopUnderPov         0.615753\n",
       "PctUnemployed          0.548039\n",
       "PolicPerPop            0.149319\n",
       "Pcthomeless            0.426614\n",
       "PctBSorMore           -0.296239\n",
       "ViolentCrimesPerPop    1.000000\n",
       "Name: ViolentCrimesPerPop, dtype: float64"
      ]
     },
     "execution_count": 186,
     "metadata": {},
     "output_type": "execute_result"
    }
   ],
   "source": [
    "#9\n",
    "crime = pd.read_csv('crime.csv')\n",
    "crime[crime.columns[0:]].corr()['ViolentCrimesPerPop'] #using correlation command to find relation between each feature\n",
    "                                                    #and ViolentCrimesPerPop"
   ]
  },
  {
   "cell_type": "code",
   "execution_count": null,
   "metadata": {},
   "outputs": [],
   "source": []
  },
  {
   "cell_type": "code",
   "execution_count": 18,
   "metadata": {},
   "outputs": [
    {
     "name": "stdout",
     "output_type": "stream",
     "text": [
      "100 is outlier\n"
     ]
    }
   ],
   "source": [
    "#10.\n",
    "import numpy as np\n",
    "import pandas as pd\n",
    "\n",
    "def detect_outlier(dataset,value):  #list and value will be input \n",
    "    mean = np.mean(dataset)         #counting mean of list\n",
    "    std =np.std(dataset)            #counting standard deivation of list\n",
    "    \n",
    "    if mean-3*std<value<mean+3*std-1:    #if value is out of this range , then it is outlier. \n",
    "        print(f'{value} is not an outlier')\n",
    "    else:\n",
    "        print(f'{value} is outlier')\n",
    "\n",
    "        \n",
    "        \n",
    "detect_outlier([1,1,1,1,1,2,2,2,2,100,4,5,6,7,2,8,10],100)\n",
    "              "
   ]
  },
  {
   "cell_type": "code",
   "execution_count": null,
   "metadata": {},
   "outputs": [],
   "source": []
  }
 ],
 "metadata": {
  "kernelspec": {
   "display_name": "Python 3",
   "language": "python",
   "name": "python3"
  },
  "language_info": {
   "codemirror_mode": {
    "name": "ipython",
    "version": 3
   },
   "file_extension": ".py",
   "mimetype": "text/x-python",
   "name": "python",
   "nbconvert_exporter": "python",
   "pygments_lexer": "ipython3",
   "version": "3.7.0"
  }
 },
 "nbformat": 4,
 "nbformat_minor": 2
}
